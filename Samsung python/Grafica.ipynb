{
 "cells": [
  {
   "cell_type": "code",
   "execution_count": null,
   "id": "45092757",
   "metadata": {},
   "outputs": [],
   "source": [
    "#GRAFICAS DEL CURSO DE PORTUGUES"
   ]
  },
  {
   "cell_type": "code",
   "execution_count": null,
   "id": "78db58c3",
   "metadata": {},
   "outputs": [
    {
     "ename": "",
     "evalue": "",
     "output_type": "error",
     "traceback": [
      "\u001b[1;31mLa ejecución de celdas con 'c:\\Program Files\\Python38\\python.exe' requiere el paquete ipykernel.\n",
      "\u001b[1;31mRun the following command to install 'ipykernel' into the Python environment. \n",
      "\u001b[1;31mCommand: '\"c:/Program Files/Python38/python.exe\" -m pip install ipykernel -U --user --force-reinstall'"
     ]
    }
   ],
   "source": [
    "import pandas as pd\n",
    "import matplotlib.pyplot as plt\n",
    "import seaborn as sns\n",
    "import math\n",
    "\n",
    "datos=pd.read_csv('resultado-por.csv')\n",
    "df=pd.DataFrame(datos)\n",
    "\n",
    "cont=df[\"sex\"].value_counts()\n",
    "etq=df[\"sex\"].unique()\n",
    "colores=[\"pink\",\"lightblue\"]\n",
    "fig,ax=plt.subplots()\n",
    "\n",
    "plt.pie(cont, labels=etq, autopct=\"%0.2f %%\",colors=colores)\n",
    "ax.set_title(\"Porcentaje de sexo\\n\",fontsize=12,fontweight='bold')\n",
    "ax.legend()\n",
    "plt.show()\n",
    "\n",
    "\n",
    "print(\"************************************\\n\")\n",
    "\n",
    "\n",
    "df['age'].value_counts().plot(kind='bar')\n",
    "plt.title('Edades y sus promedios',fontsize=14,fontweight='bold')\n",
    "plt.show()\n",
    "\n",
    "print(\"\\nEl promedio de edades es:{0:.2f} \".format(df['age'].mean()))\n",
    "\n",
    "\n",
    "print(\"\\n***********************************\\n\")\n",
    "\n",
    "\n",
    "g1=df['G1'].mean()\n",
    "g2=df['G2'].mean()\n",
    "g3=df['G3'].mean()\n",
    "\n",
    "\n",
    "names = ['G1', 'G2', 'G3']\n",
    "values = [11.40, 11.57, 11.91]\n",
    "plt.figure(figsize=(20, 7))\n",
    "plt.subplot(131) \n",
    "plt.barh(names, values)\n",
    "plt.title('Media de los promedios',fontsize=12,fontweight='bold')\n",
    "plt.show()\n",
    "print(\"El promedio de nota de G1 es {0:.2f}\".format(g1))\n",
    "print(\"El promedio de nota de G2 es {0:.2f}\".format(g2))\n",
    "print(\"El promedio de nota de G3 es {0:.2f}\\n\".format(g3))\n",
    "\n",
    "\n",
    "print(\"********************************************\\n\")\n",
    "\n",
    "a=df['absences'].max()\n",
    "print(\"El mayor de la ausencia es de: \",a)\n"
   ]
  },
  {
   "cell_type": "code",
   "execution_count": null,
   "id": "09312c33",
   "metadata": {},
   "outputs": [],
   "source": [
    "#GRAFICA DEL CURSO DE MATEMATICA"
   ]
  },
  {
   "cell_type": "code",
   "execution_count": 101,
   "id": "b5ade39d",
   "metadata": {},
   "outputs": [
    {
     "data": {
      "image/png": "[encoded data removed]",
      "text/plain": [
       "<Figure size 432x288 with 1 Axes>"
      ]
     },
     "metadata": {},
     "output_type": "display_data"
    },
    {
     "name": "stdout",
     "output_type": "stream",
     "text": [
      "\n",
      "*******************************\n",
      "\n"
     ]
    },
    {
     "data": {
      "image/png": "[encoded data removed]",
      "text/plain": [
       "<Figure size 432x288 with 1 Axes>"
      ]
     },
     "metadata": {
      "needs_background": "light"
     },
     "output_type": "display_data"
    },
    {
     "name": "stdout",
     "output_type": "stream",
     "text": [
      "\n",
      "El promedio de edades es:16.70 \n",
      "\n",
      "*************************************\n",
      "\n"
     ]
    },
    {
     "data": {
      "image/png": "[encoded data removed]",
      "text/plain": [
       "<Figure size 1080x360 with 1 Axes>"
      ]
     },
     "metadata": {
      "needs_background": "light"
     },
     "output_type": "display_data"
    },
    {
     "name": "stdout",
     "output_type": "stream",
     "text": [
      "El promedio de nota de G1 es 10.91\n",
      "El promedio de nota de G2 es 10.71\n",
      "El promedio de nota de G3 es 10.42\n",
      "\n",
      "********************************************\n",
      "\n",
      "Mayor de las ausencia es de:  75\n"
     ]
    }
   ],
   "source": [
    "import pandas as pd\n",
    "import matplotlib.pyplot as plt\n",
    "import seaborn as sns\n",
    "\n",
    "datos=pd.read_csv('resultado-mat.csv')\n",
    "df=pd.DataFrame(datos)\n",
    "fig,ax=plt.subplots()\n",
    "\n",
    "\n",
    "cont=df[\"sex\"].value_counts()\n",
    "etq=df[\"sex\"].unique()\n",
    "colrs=[\"lightpink\",\"blue\"]\n",
    "\n",
    "plt.pie(cont, labels=etq, autopct=\"%0.2f %%\",colors=colrs)\n",
    "ax.set_title(\"Porcentaje de sexo\\n\",fontsize=15,fontweight='bold')\n",
    "ax.legend()\n",
    "plt.show()\n",
    "\n",
    "\n",
    "print(\"\\n*******************************\\n\")\n",
    "\n",
    "\n",
    "df['age'].value_counts().plot(kind='bar')\n",
    "plt.title('Edades y sus promedios',fontsize=14,fontweight='bold')\n",
    "\n",
    "plt.show()\n",
    "\n",
    "print(\"\\nEl promedio de edades es:{0:.2f} \".format(df['age'].mean()))\n",
    "\n",
    "\n",
    "print(\"\\n*************************************\\n\")\n",
    "g1=df['G1'].mean()\n",
    "g2=df['G2'].mean()\n",
    "g3=df['G3'].mean()\n",
    "\n",
    "names = ['G1', 'G2', 'G3']\n",
    "values = [11.40, 11.57, 11.91]\n",
    "plt.figure(figsize=(15, 5))\n",
    "plt.subplot(131) \n",
    "plt.barh(names, values)\n",
    "\n",
    "plt.title('Media de los promedios',fontsize=12,fontweight='bold')\n",
    "\n",
    "plt.show()\n",
    "print(\"El promedio de nota de G1 es {0:.2f}\".format(g1))\n",
    "print(\"El promedio de nota de G2 es {0:.2f}\".format(g2))\n",
    "print(\"El promedio de nota de G3 es {0:.2f}\\n\".format(g3))\n",
    "\n",
    "\n",
    "print(\"********************************************\\n\")\n",
    "a=df['absences'].max()\n",
    "print(\"Mayor de las ausencia es de: \",a)\n"
   ]
  },
  {
   "cell_type": "code",
   "execution_count": null,
   "id": "f546ca98",
   "metadata": {},
   "outputs": [],
   "source": []
  }
 ],
 "metadata": {
  "kernelspec": {
   "display_name": "Python 3 (ipykernel)",
   "language": "python",
   "name": "python3"
  },
  "language_info": {
   "codemirror_mode": {
    "name": "ipython",
    "version": 3
   },
   "file_extension": ".py",
   "mimetype": "text/x-python",
   "name": "python",
   "nbconvert_exporter": "python",
   "pygments_lexer": "ipython3",
   "version": "3.8.2"
  }
 },
 "nbformat": 4,
 "nbformat_minor": 5
}
